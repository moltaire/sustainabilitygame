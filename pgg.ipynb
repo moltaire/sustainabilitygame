{
 "cells": [
  {
   "cell_type": "code",
   "execution_count": 1,
   "metadata": {
    "tags": []
   },
   "outputs": [],
   "source": [
    "import numpy as np\n",
    "import pandas as pd\n",
    "import matplotlib.pyplot as plt"
   ]
  },
  {
   "cell_type": "markdown",
   "metadata": {},
   "source": [
    "Here, I'll simulate PGG outcomes for different game parameters.\n",
    "\n",
    "In every game, a person's payout $p_i$ is given as\n",
    "\n",
    "$$p_i = z_i - c_i + \\alpha \\sum_J^N c_j$$\n",
    "\n",
    "where $z_i$ is person $i$'s initial endowment, $c_i$ is their contribution, $J$ is the set of all participants, and $\\alpha$ is the marginal per capita return.\n",
    "\n",
    "I'll systematically vary average contribution $c_i$, marginal per capita return $\\alpha$ and the group size $N$."
   ]
  },
  {
   "cell_type": "code",
   "execution_count": 2,
   "metadata": {
    "tags": []
   },
   "outputs": [],
   "source": [
    "z = 1\n",
    "cs = np.linspace(0, 1, 11)\n",
    "alphas = np.linspace(0, 1, 11)\n",
    "Ns = [5, 10, 15, 20]\n",
    "\n",
    "results = []\n",
    "\n",
    "index = 0\n",
    "for c in cs:\n",
    "    for alpha in alphas:\n",
    "        for N in Ns:\n",
    "            if alpha < 1 / N:\n",
    "                continue\n",
    "            if alpha >= 1:\n",
    "                continue\n",
    "\n",
    "            p_co_co = (\n",
    "                z - z * c + alpha * (N * c * z)\n",
    "            )  # payout of a cooperator when everybody cooperates\n",
    "            p_fr_fr = (\n",
    "                z - z * c + alpha * ((N - 1) * c * z)\n",
    "            )  # payout of a free rider when there is one free rider (everybody else cooperates)\n",
    "            p_co_fr = z + alpha * (\n",
    "                (N - 1) * c * z\n",
    "            )  # payout of a cooperating person when there is one free rider\n",
    "            result = pd.DataFrame(\n",
    "                dict(\n",
    "                    c=c,\n",
    "                    alpha=alpha,\n",
    "                    N=N,\n",
    "                    p_co_co=p_co_co,\n",
    "                    p_fr_fr=p_fr_fr,\n",
    "                    p_co_fr=p_co_fr,\n",
    "                ),\n",
    "                index=[index],\n",
    "            )\n",
    "            results.append(result)\n",
    "            index += 1\n",
    "\n",
    "results = pd.concat(results)"
   ]
  },
  {
   "cell_type": "code",
   "execution_count": 3,
   "metadata": {
    "tags": []
   },
   "outputs": [
    {
     "data": {
      "text/html": [
       "<div>\n",
       "<style scoped>\n",
       "    .dataframe tbody tr th:only-of-type {\n",
       "        vertical-align: middle;\n",
       "    }\n",
       "\n",
       "    .dataframe tbody tr th {\n",
       "        vertical-align: top;\n",
       "    }\n",
       "\n",
       "    .dataframe thead th {\n",
       "        text-align: right;\n",
       "    }\n",
       "</style>\n",
       "<table border=\"1\" class=\"dataframe\">\n",
       "  <thead>\n",
       "    <tr style=\"text-align: right;\">\n",
       "      <th></th>\n",
       "      <th>c</th>\n",
       "      <th>alpha</th>\n",
       "      <th>N</th>\n",
       "      <th>p_co_co</th>\n",
       "      <th>p_fr_fr</th>\n",
       "      <th>p_co_fr</th>\n",
       "    </tr>\n",
       "  </thead>\n",
       "  <tbody>\n",
       "    <tr>\n",
       "      <th>0</th>\n",
       "      <td>0.0</td>\n",
       "      <td>0.1</td>\n",
       "      <td>10</td>\n",
       "      <td>1.0</td>\n",
       "      <td>1.0</td>\n",
       "      <td>1.0</td>\n",
       "    </tr>\n",
       "    <tr>\n",
       "      <th>1</th>\n",
       "      <td>0.0</td>\n",
       "      <td>0.1</td>\n",
       "      <td>15</td>\n",
       "      <td>1.0</td>\n",
       "      <td>1.0</td>\n",
       "      <td>1.0</td>\n",
       "    </tr>\n",
       "    <tr>\n",
       "      <th>2</th>\n",
       "      <td>0.0</td>\n",
       "      <td>0.1</td>\n",
       "      <td>20</td>\n",
       "      <td>1.0</td>\n",
       "      <td>1.0</td>\n",
       "      <td>1.0</td>\n",
       "    </tr>\n",
       "    <tr>\n",
       "      <th>3</th>\n",
       "      <td>0.0</td>\n",
       "      <td>0.2</td>\n",
       "      <td>5</td>\n",
       "      <td>1.0</td>\n",
       "      <td>1.0</td>\n",
       "      <td>1.0</td>\n",
       "    </tr>\n",
       "    <tr>\n",
       "      <th>4</th>\n",
       "      <td>0.0</td>\n",
       "      <td>0.2</td>\n",
       "      <td>10</td>\n",
       "      <td>1.0</td>\n",
       "      <td>1.0</td>\n",
       "      <td>1.0</td>\n",
       "    </tr>\n",
       "    <tr>\n",
       "      <th>...</th>\n",
       "      <td>...</td>\n",
       "      <td>...</td>\n",
       "      <td>...</td>\n",
       "      <td>...</td>\n",
       "      <td>...</td>\n",
       "      <td>...</td>\n",
       "    </tr>\n",
       "    <tr>\n",
       "      <th>380</th>\n",
       "      <td>1.0</td>\n",
       "      <td>0.8</td>\n",
       "      <td>20</td>\n",
       "      <td>16.0</td>\n",
       "      <td>15.2</td>\n",
       "      <td>16.2</td>\n",
       "    </tr>\n",
       "    <tr>\n",
       "      <th>381</th>\n",
       "      <td>1.0</td>\n",
       "      <td>0.9</td>\n",
       "      <td>5</td>\n",
       "      <td>4.5</td>\n",
       "      <td>3.6</td>\n",
       "      <td>4.6</td>\n",
       "    </tr>\n",
       "    <tr>\n",
       "      <th>382</th>\n",
       "      <td>1.0</td>\n",
       "      <td>0.9</td>\n",
       "      <td>10</td>\n",
       "      <td>9.0</td>\n",
       "      <td>8.1</td>\n",
       "      <td>9.1</td>\n",
       "    </tr>\n",
       "    <tr>\n",
       "      <th>383</th>\n",
       "      <td>1.0</td>\n",
       "      <td>0.9</td>\n",
       "      <td>15</td>\n",
       "      <td>13.5</td>\n",
       "      <td>12.6</td>\n",
       "      <td>13.6</td>\n",
       "    </tr>\n",
       "    <tr>\n",
       "      <th>384</th>\n",
       "      <td>1.0</td>\n",
       "      <td>0.9</td>\n",
       "      <td>20</td>\n",
       "      <td>18.0</td>\n",
       "      <td>17.1</td>\n",
       "      <td>18.1</td>\n",
       "    </tr>\n",
       "  </tbody>\n",
       "</table>\n",
       "<p>385 rows × 6 columns</p>\n",
       "</div>"
      ],
      "text/plain": [
       "       c  alpha   N  p_co_co  p_fr_fr  p_co_fr\n",
       "0    0.0    0.1  10      1.0      1.0      1.0\n",
       "1    0.0    0.1  15      1.0      1.0      1.0\n",
       "2    0.0    0.1  20      1.0      1.0      1.0\n",
       "3    0.0    0.2   5      1.0      1.0      1.0\n",
       "4    0.0    0.2  10      1.0      1.0      1.0\n",
       "..   ...    ...  ..      ...      ...      ...\n",
       "380  1.0    0.8  20     16.0     15.2     16.2\n",
       "381  1.0    0.9   5      4.5      3.6      4.6\n",
       "382  1.0    0.9  10      9.0      8.1      9.1\n",
       "383  1.0    0.9  15     13.5     12.6     13.6\n",
       "384  1.0    0.9  20     18.0     17.1     18.1\n",
       "\n",
       "[385 rows x 6 columns]"
      ]
     },
     "execution_count": 3,
     "metadata": {},
     "output_type": "execute_result"
    }
   ],
   "source": [
    "results"
   ]
  },
  {
   "cell_type": "code",
   "execution_count": 4,
   "metadata": {
    "tags": []
   },
   "outputs": [
    {
     "data": {
      "text/plain": [
       "<matplotlib.legend.Legend at 0x1590cc970>"
      ]
     },
     "execution_count": 4,
     "metadata": {},
     "output_type": "execute_result"
    },
    {
     "data": {
      "image/png": "[encoded data removed]",
      "text/plain": [
       "<Figure size 640x480 with 1 Axes>"
      ]
     },
     "metadata": {},
     "output_type": "display_data"
    }
   ],
   "source": [
    "ax = plt.gca()\n",
    "\n",
    "# payouts by return rate alpha and group size\n",
    "for N in Ns:\n",
    "    # only look at one contribution level c\n",
    "    # and one group size N\n",
    "    c = 0.5\n",
    "    df = results.loc[(results[\"N\"] == N) & (results[\"c\"] == c)]\n",
    "\n",
    "    ax.plot(df[\"alpha\"], df[\"p_co_co\"], label=N)\n",
    "ax.set_xlabel(\"Return rate\\n\" + r\"$\\alpha$\")\n",
    "ax.set_ylabel(\"Individual payout\\n\" \"$p_i$\")\n",
    "ax.set_title(\"Payout by return rate and group size\")\n",
    "ax.legend(title=\"Group size\")"
   ]
  },
  {
   "cell_type": "markdown",
   "metadata": {},
   "source": [
    "The plot shows that individual payouts increase with increasing group size and increasing return rate in an interacting fashion."
   ]
  }
 ],
 "metadata": {
  "kernelspec": {
   "display_name": "Python 3 (ipykernel)",
   "language": "python",
   "name": "python3"
  },
  "language_info": {
   "codemirror_mode": {
    "name": "ipython",
    "version": 3
   },
   "file_extension": ".py",
   "mimetype": "text/x-python",
   "name": "python",
   "nbconvert_exporter": "python",
   "pygments_lexer": "ipython3",
   "version": "3.10.9"
  },
  "vscode": {
   "interpreter": {
    "hash": "d6fe2d0e4619fed2fb2bb9e06e98a7122610e25ea19cf91cb94bc56c956d93d1"
   }
  }
 },
 "nbformat": 4,
 "nbformat_minor": 4
}
